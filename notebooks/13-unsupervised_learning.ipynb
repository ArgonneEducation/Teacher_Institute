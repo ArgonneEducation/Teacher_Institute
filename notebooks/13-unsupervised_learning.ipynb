{
 "cells": [
  {
   "cell_type": "markdown",
   "metadata": {},
   "source": [
    "# Clustering Penguins: An Introduction to Unsupervised Learning\n",
    "\n",
    "<img src = \"https://raw.githubusercontent.com/ArgonneEducation/ai_for_science_teacher_institute/refs/heads/main/imgs/penguins.png\" width = 400>\n",
    "\n",
    "In biology, classification is fundamental. Traditionally, scientists (taxonomists) would use observable traits—like the size and shape of a fish's fins or the length of a cat's tail. Today, we can collect large amounts of data and use computational tools to help us find these patterns, sometimes in ways that aren't obvious to the human eye. This is a core concept in the field of bioinformatics.\n",
    "\n",
    "So far, we have been doing supervised learning, where the dataset is labelled. In other words, we know the right answer to the prediction. However, there are machine learning algorithms that can find patterns in unlabelled data to develop groups that can then be assigned labels. This is called **unsupervised learning**.\n",
    "\n",
    "A great introduction to unsupervised learning is **k-means clustering**. Clustering is an unsupervised learning technique that groups similar data points together. K-means is one of the most popular clustering algorithms due to its simplicity and effectiveness."
   ]
  },
  {
   "cell_type": "code",
   "execution_count": 1,
   "metadata": {},
   "outputs": [],
   "source": [
    "# Load the necessary libraries\n",
    "# data\n",
    "import numpy as np\n",
    "import pandas as pd\n",
    "\n",
    "# visualization\n",
    "import matplotlib.pyplot as plt\n",
    "import seaborn as sns\n",
    "\n",
    "# machine learning\n",
    "from sklearn.cluster import KMeans\n",
    "from sklearn.preprocessing import StandardScaler"
   ]
  },
  {
   "cell_type": "markdown",
   "metadata": {},
   "source": [
    "## Load the Dataset\n",
    "\n",
    "Now, let's load our dataset. We have a CSV (Comma Separated Values) file called `penguins.csv` which contains data for three different species of penguins collected from the Palmer Archipelago in Antarctica."
   ]
  },
  {
   "cell_type": "code",
   "execution_count": null,
   "metadata": {},
   "outputs": [],
   "source": [
    "# Load the dataset from the csv file into a pandas DataFrame\n",
    "penguins= pd.read_csv('https://raw.githubusercontent.com/ArgonneEducation/ai_for_science_teacher_institute/refs/heads/main/data/penguins_unlabelled.csv')\n",
    "penguins.head()"
   ]
  },
  {
   "cell_type": "code",
   "execution_count": null,
   "metadata": {},
   "outputs": [],
   "source": [
    "# Basic statistics\n",
    "penguins.describe()"
   ]
  },
  {
   "attachments": {},
   "cell_type": "markdown",
   "metadata": {},
   "source": [
    "### Visualizing the Data\n",
    "\n",
    "Now for the fun part! Let's create some plots to see if we can visually identify the clusters. A **pairplot** is a great tool that creates scatterplots for every pair of numerical features in our dataset."
   ]
  },
  {
   "cell_type": "code",
   "execution_count": null,
   "metadata": {},
   "outputs": [],
   "source": [
    "sns.pairplot(penguins)\n",
    "plt.show()"
   ]
  },
  {
   "cell_type": "markdown",
   "metadata": {},
   "source": [
    "#### **Think About It:**\n",
    "\n",
    "1. How many species are represented in the dataset? \n",
    "2. Which two features seem to be the most effective at separating the species into distinct clusters? "
   ]
  },
  {
   "cell_type": "markdown",
   "metadata": {},
   "source": [
    "## Preparing the Data for Clustering\n",
    "\n",
    "Machine learning models work with numbers, so we need to make sure our data is ready.\n",
    "1.  **Select Features:** We will choose the columns (features) we want to use for clustering.\n",
    "2.  **Scale the Features:** K-means works by measuring distances. We use `StandardScaler` to scale our features so they have a similar numerical range."
   ]
  },
  {
   "cell_type": "code",
   "execution_count": null,
   "metadata": {},
   "outputs": [],
   "source": [
    "# Select the features for clustering - enter the features you want to use\n",
    "features = penguins[['???', '???']]\n",
    "\n",
    "# Scale the features\n",
    "scaler = StandardScaler()\n",
    "features_scaled = scaler.fit_transform(features)"
   ]
  },
  {
   "cell_type": "markdown",
   "metadata": {},
   "source": [
    "## The K-Means Algorithm: How Does It Work?\n",
    "\n",
    "We can see some possible clusters with our eyes, but how can a computer \"discover\" these clusters on their own? This is where K-Means comes in.\n",
    "\n",
    "<img src = 'https://raw.githubusercontent.com/Joshua-Elms/k-means-visualization/refs/heads/main/images/optimal_solution.gif'>\n",
    "\n",
    "gif is from https://github.com/Joshua-Elms/k-means-visualization/tree/main\n",
    "\n",
    "**K-Means follows a simple, iterative process:**\n",
    "\n",
    "1.  **Choose 'k'**: First, we tell the algorithm how many clusters to look for. In our case, we know there are 3 species, so we'll choose **k=3**.\n",
    "2.  **Initialize Centroids**: The algorithm randomly drops k (3) 'centroids' (think of them as virtual center-points, represented as X's above) onto the plot.\n",
    "3.  **Assign Clusters**: It then assigns every single data point (each penguin) to its nearest centroid. This forms the initial clusters.\n",
    "4.  **Update Centroids**: Next, it calculates the new center of each cluster by finding the average position of all the points within it. It moves the centroid to this new center.\n",
    "5.  **Repeat**: It repeats steps 3 and 4 over and over. With each iteration, the centroids move less and less, until they eventually settle in the center of their respective clusters.\n",
    "\n",
    "The algorithm has now found the groups without ever knowing the actual species!"
   ]
  },
  {
   "cell_type": "markdown",
   "metadata": {},
   "source": [
    "## Applying K-Means to the Penguin Data\n",
    "\n",
    "Let's run the algorithm. Based on the pairplot, `bill_length_mm` and `flipper_length_mm` seemed to separate the clusters well. Let's use those two features to start."
   ]
  },
  {
   "cell_type": "code",
   "execution_count": null,
   "metadata": {},
   "outputs": [],
   "source": [
    "# Create a KMeans model instance\n",
    "kmeans = KMeans(n_clusters=3, n_init=10, random_state=42)\n",
    "\n",
    "# Fit the model to our features\n",
    "kmeans.fit(features_scaled)\n",
    "\n",
    "print(\"Model training complete!\")"
   ]
  },
  {
   "cell_type": "markdown",
   "metadata": {},
   "source": [
    "The model has assigned each penguin to a cluster. We can extract these assignments from the model and add them as a new column in the `penguins` dataframe."
   ]
  },
  {
   "cell_type": "code",
   "execution_count": null,
   "metadata": {},
   "outputs": [],
   "source": [
    "# Get the cluster assignments (labels) for each penguin\n",
    "predicted_labels = kmeans.labels_\n",
    "\n",
    "# Add the predicted labels back to our cleaned DataFrame\n",
    "penguins['predicted_cluster'] = predicted_labels\n",
    "\n",
    "# Let's look at the first few rows with the new column\n",
    "penguins.head()"
   ]
  },
  {
   "cell_type": "code",
   "execution_count": null,
   "metadata": {},
   "outputs": [],
   "source": [
    "# How many penguins are in each cluster?\n",
    "penguins['predicted_cluster'].value_counts()"
   ]
  },
  {
   "cell_type": "markdown",
   "metadata": {},
   "source": [
    "## 6. Visualizing and Evaluating the Results\n",
    "\n",
    "The algorithm has assigned each penguin to a cluster (0, 1, or 2). How did it do? Let's create a scatter plot just like before, but this time, we'll color the points using our **predicted clusters**."
   ]
  },
  {
   "cell_type": "code",
   "execution_count": null,
   "metadata": {},
   "outputs": [],
   "source": [
    "# Get the coordinates of the final cluster centers (the centroids)\n",
    "centroids = kmeans.cluster_centers_\n",
    "centroids_original_scale = scaler.inverse_transform(kmeans.cluster_centers_)\n",
    "\n",
    "# Create a scatter plot of the penguins, colored by their assigned cluster\n",
    "plt.figure(figsize=(10, 7))\n",
    "sns.scatterplot(data=penguins, x='bill_length_mm', y='flipper_length_mm', hue='predicted_cluster', palette='viridis', s=100, alpha=0.7)\n",
    "\n",
    "# Plot the centroids on top\n",
    "plt.scatter(centroids_original_scale[:, 0], centroids_original_scale[:, 1], s=300, c='red', marker='X', label='Centroids')\n",
    "\n",
    "plt.title('K-Means Clustering of Penguins')\n",
    "plt.xlabel('Bill Length (mm)')\n",
    "plt.ylabel('Flipper Length (mm)')\n",
    "plt.legend()\n",
    "plt.show()"
   ]
  },
  {
   "cell_type": "markdown",
   "metadata": {},
   "source": [
    "### How good was the result?\n",
    "\n",
    "The plot above looks pretty good! The groups seem well-defined. But how does it compare to the *actual* species? Fortunately, we have another dataset of the same penguins that is labelled with their species. We can add the `predicted_cluster` column to this dataset."
   ]
  },
  {
   "cell_type": "code",
   "execution_count": null,
   "metadata": {},
   "outputs": [],
   "source": [
    "# Load the labelled dataset\n",
    "penguins_labelled = pd.read_csv('data/penguins_labelled.csv')\n",
    "penguins_labelled['predicted_cluster'] = penguins['predicted_cluster']\n",
    "penguins_labelled.head()"
   ]
  },
  {
   "cell_type": "markdown",
   "metadata": {},
   "source": [
    "Each of the `predicted_cluster` numbers (0, 1, 2) should each associate with a species. We can use a tool called a **cross-tabulation** to compare the true `species` column with our `predicted_cluster` column in order to get some insight into this."
   ]
  },
  {
   "cell_type": "code",
   "execution_count": null,
   "metadata": {},
   "outputs": [],
   "source": [
    "ctab = pd.crosstab(penguins_labelled['species'], penguins_labelled['predicted_cluster'])\n",
    "ctab"
   ]
  },
  {
   "cell_type": "markdown",
   "metadata": {},
   "source": [
    "### Interpret the Results:\n",
    "\n",
    "1.  Look at the table above. The rows are the true species, and the columns are the clusters the algorithm created. \n",
    "2.  How many 'Adelie' penguins were put into cluster 0? How many were put into other clusters?\n",
    "3.  Which species was the algorithm most successful at identifying? \n",
    "4.  Where did the algorithm get confused?\n",
    "5.  Overall, do you think the algorithm did a good job of rediscovering the species based only on bill and flipper length?"
   ]
  },
  {
   "cell_type": "markdown",
   "metadata": {},
   "source": [
    "### Analyze the Results\n",
    "- Look at the table. Does each cluster primarily correspond to a single species?\n",
    "- How successful was the K-means algorithm at discovering the different penguin species without being told about them?"
   ]
  },
  {
   "cell_type": "markdown",
   "metadata": {},
   "source": [
    "## Challenge: Can We Do Better?\n",
    "\n",
    "What do you think would happen if we gave the algorithm more information? Let's try running K-Means again, but this time, we'll use all four numerical measurements."
   ]
  }
 ],
 "metadata": {
  "kernelspec": {
   "display_name": "base",
   "language": "python",
   "name": "python3"
  },
  "language_info": {
   "codemirror_mode": {
    "name": "ipython",
    "version": 3
   },
   "file_extension": ".py",
   "mimetype": "text/x-python",
   "name": "python",
   "nbconvert_exporter": "python",
   "pygments_lexer": "ipython3",
   "version": "3.12.7"
  }
 },
 "nbformat": 4,
 "nbformat_minor": 4
}
