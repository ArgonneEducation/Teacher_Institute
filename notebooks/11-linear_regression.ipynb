{
 "cells": [
  {
   "cell_type": "markdown",
   "metadata": {},
   "source": [
    "# Linear Regression: Your AI \"Hello world!\"\n",
    "\n",
    "While it might seem simple, linear regression is a powerful tool for understanding relationships between variables and making predictions, which are core ideas in AI and ML. We'll explore how this model can be applied to real-world data."
   ]
  },
  {
   "cell_type": "markdown",
   "metadata": {},
   "source": [
    "## What is Linear Regression?\n",
    "\n",
    "At its heart, linear regression is about finding the best-fitting straight line through a set of data points. This line helps us understand how one variable (the outcome/dependent variable) changes in response to another variable (the explanatory/independent variable). This is incredibly useful for identifying trends, making predictions, and even inferring causal relationships (with careful interpretation!)."
   ]
  },
  {
   "cell_type": "markdown",
   "metadata": {},
   "source": [
    "## The Problem: Indoor CO2 Levels and Occupancy\n",
    "\n",
    "This notebook uses a dataset that was collected by students at J. Sterling Morton High School as part of a study on CO2 levels in classrooms. We will investigate if there's a linear relationship between the **number of people in a room** and the **CO2 level** in that room."
   ]
  },
  {
   "cell_type": "markdown",
   "metadata": {},
   "source": [
    "### Setting Up Our Environment\n",
    "\n",
    "First, we need to import the necessary Python libraries. We'll use `pandas` for data manipulation and `matplotlib.pyplot` for visualization. We will also be using a couple of new libraries: `seaborn` for plotting, and \"scikit-learn\" (`sklearn`) for our linear regression model."
   ]
  },
  {
   "cell_type": "code",
   "execution_count": null,
   "metadata": {},
   "outputs": [],
   "source": [
    "import pandas as pd\n",
    "import matplotlib.pyplot as plt\n",
    "import seaborn as sns \n",
    "from sklearn.linear_model import LinearRegression\n",
    "from sklearn.metrics import mean_squared_error, r2_score"
   ]
  },
  {
   "cell_type": "markdown",
   "metadata": {},
   "source": [
    "## Loading and Exploring the Data\n",
    "\n",
    "We will load the `co2_levels_and_people.csv` file that was pre-processed from multiple individual room datasets. This file contains the `CO2 Level (ppm)` and `Number of People in Room` for many observations. "
   ]
  },
  {
   "cell_type": "code",
   "execution_count": null,
   "metadata": {},
   "outputs": [],
   "source": [
    "# Load the dataset\n"
   ]
  },
  {
   "cell_type": "code",
   "execution_count": null,
   "metadata": {},
   "outputs": [],
   "source": [
    "# Get a summary of the dataframe's information\n"
   ]
  },
  {
   "cell_type": "code",
   "execution_count": null,
   "metadata": {},
   "outputs": [],
   "source": [
    "# Get descriptive statistics for numerical columns\n"
   ]
  },
  {
   "cell_type": "markdown",
   "metadata": {},
   "source": [
    "## Why use Seaborn for Plotting?\n",
    "\n",
    "You've already gained experience with `matplotlib.pyplot` for creating plots, which is a powerful and foundational Python plotting library. Now, we're introducing `seaborn`, which is another excellent library for data visualization. You might wonder, why use two different libraries for plotting?\n",
    "\n",
    "Here's why `seaborn` is particularly useful, especially for exploring relationships in data and creating clear scientific visualizations.\n",
    "\n",
    "1.  **Less Code**: Seaborn provides a higher-level interface than Matplotlib. This means you can often create complex and statistically-rich plots with fewer lines of code. \n",
    "\n",
    "2.  **Integrated with Pandas DataFrames**: Seaborn is designed to work seamlessly with pandas DataFrames.\n",
    "\n",
    "3.  **Complementary to Matplotlib**: Seaborn is built on top of Matplotlib. This means your knowledge of Matplotlib is still very valuable! You can use Seaborn for the high-level plotting and then use Matplotlib functions (`plt.title()`, `plt.xlabel()`, `plt.legend()`, `plt.show()`, etc.) to further customize and refine your plots. They work together hand-in-hand.\n",
    "\n",
    "4.  **Aesthetics and Professional Appearance**: Seaborn comes with built-in themes and color palettes that produce aesthetically pleasing and professional-looking plots by default."
   ]
  },
  {
   "cell_type": "markdown",
   "metadata": {},
   "source": [
    "## Making a Scatter Plot with Seaborn\n",
    "\n",
    "Seaborn uses the `scatterplot()` function. Since Seaborn works with Pandas, we can reference the `x` and `y` data by simply calling the appropriate column names and use the `data` argument to reference the dataframe."
   ]
  },
  {
   "cell_type": "code",
   "execution_count": null,
   "metadata": {},
   "outputs": [],
   "source": [
    "plt.figure(figsize=(10, 6))\n",
    "# Use Seaborn to make the scatter plot\n",
    "\n",
    "\n",
    "# Use Matplotlib to finish out the plot\n",
    "plt.title('Number of People in Room vs. CO2 Level')\n",
    "plt.xlabel('Number of People in Room')\n",
    "plt.ylabel('CO2 Level (ppm)')\n",
    "plt.grid(True)\n",
    "plt.legend()\n",
    "plt.show()"
   ]
  },
  {
   "cell_type": "markdown",
   "metadata": {},
   "source": [
    "## Preparing Data for Linear Regression\n",
    "\n",
    "For linear regression, we need to define our independent variable (X) and dependent variable (y). In our case, the 'Number of People in Room' will be our independent variable (X), and 'CO2 Level (ppm)' will be our dependent variable (y).\n",
    "\n",
    "For linear regression, `X` should be a 2D array (or a DataFrame with a single column), and `y` should be a 1D array (or a Series).\n",
    "\n",
    "### Understanding Data Dimensions for Linear Regression (X and y)\n",
    "\n",
    "When preparing your data for linear regression, especially when using libraries like scikit-learn in Python, it's crucial to correctly shape your independent variable (often denoted as `X`) and your dependent variable (often denoted as `y`).\n",
    "\n",
    "* **`X` (Explanatory/Independent Variable(s)):**\n",
    "    * `X` represents the features or explanatory variables that you are using to make predictions.\n",
    "    * **It should always be a 2D array or a pandas DataFrame.**\n",
    "    * Even if you only have **one independent variable** (as in simple linear regression, like 'Number of People in Room' in our example), scikit-learn expects `X` to be 2-dimensional. This is because the model is designed to handle multiple features (columns) for more complex scenarios (multiple linear regression). When you have a single feature, you often see it created as `df[['your_column_name']]` to ensure it remains a DataFrame (2D).\n",
    "    * Each row in `X` corresponds to a single data point or observation, and each column corresponds to a different feature.\n",
    "\n",
    "* **`y` (Outcome/Dependent Variable):**\n",
    "    * `y` represents the **target variable** or the outcome that you are trying to predict.\n",
    "    * **It should always be a 1D array or a pandas Series.**\n",
    "    * This is because for each observation (row) in your dataset, there is typically only one target value you are trying to predict.\n",
    "    * You typically select `y` as a single column from your DataFrame, like `df['your_target_column_name']`, which results in a pandas Series (1D).\n",
    "\n",
    "**Why this distinction?**\n",
    "\n",
    "This convention helps the machine learning libraries clearly distinguish between the input features (which can be many) and the single output target for each observation. It provides a consistent interface for models, whether you're performing simple linear regression with one predictor or multiple linear regression with many predictors.\n"
   ]
  },
  {
   "cell_type": "code",
   "execution_count": null,
   "metadata": {},
   "outputs": [],
   "source": [
    "# Define independent (X) and dependent (y) variables\n",
    "        # Explanatory/Independent variable (must be 2D)\n",
    "        # Outcome/Dependent variable (1D)"
   ]
  },
  {
   "cell_type": "markdown",
   "metadata": {},
   "source": [
    "## Building and Training the Linear Regression Model\n",
    "\n",
    "Now we can create an instance of the `LinearRegression` model from `scikit-learn` and train it using our entire dataset. Training involves the model learning the coefficients (slope) and intercept of the best-fit line."
   ]
  },
  {
   "cell_type": "code",
   "execution_count": null,
   "metadata": {},
   "outputs": [],
   "source": [
    "# Create a Linear Regression model object\n",
    "\n",
    "\n",
    "# Train the model using the entire dataset\n",
    "\n",
    "\n",
    "print(\"Model training complete!\")"
   ]
  },
  {
   "cell_type": "markdown",
   "metadata": {},
   "source": [
    "## Getting the Equation of the Regression Line\n",
    "\n",
    "The equation of a straight line is typically written as $y = mx + b$, where:\n",
    "* $y$ is the dependent variable (CO2 Level in ppm).\n",
    "* $x$ is the independent variable (Number of People in Room).\n",
    "* $m$ is the slope of the line (the coefficient).\n",
    "* $b$ is the y-intercept.\n",
    "\n",
    "The equation of our regression line provides a direct way to understand the relationship:\n",
    "\n",
    "**CO2 Level (ppm) = [Slope] * Number of People + [Intercept]**\n",
    "\n",
    "* **Slope**: This value indicates how many parts per million (ppm) the CO2 level is estimated to increase for each additional person in the room. A positive slope supports the hypothesis that more people lead to higher CO2 levels.\n",
    "  \n",
    "* **Intercept**: This is the predicted CO2 level when there are zero people in the room. In a real-world scenario, this should ideally be close to the outdoor atmospheric CO2 concentration (currently around 420-450 ppm), assuming good ventilation when the room is empty.\n",
    "\n",
    "Our linear regression model calculates these values for us. We can directly access them from the trained model."
   ]
  },
  {
   "cell_type": "code",
   "execution_count": null,
   "metadata": {},
   "outputs": [],
   "source": [
    "# Get the model's coefficient (slope)\n",
    "\n",
    "\n",
    "# Get the model's intercept\n",
    "\n",
    "\n",
    "print(f\"Model Coefficient (Slope, m): {slope:.2f}\")\n",
    "print(f\"Model Intercept (b): {intercept:.2f}\")\n",
    "\n",
    "print(f\"\\nThe equation of the regression line is: CO2 Level (ppm) = {slope:.2f} * Number of People + {intercept:.2f}\")"
   ]
  },
  {
   "cell_type": "markdown",
   "metadata": {},
   "source": [
    "## Visualizing the Regression Line\n",
    "\n",
    "Finally, let's visualize our trained linear regression line overlaid on the scatter plot of the original data using `seaborn`. This gives us a clear visual representation of the relationship the model has found."
   ]
  },
  {
   "cell_type": "code",
   "execution_count": null,
   "metadata": {},
   "outputs": [],
   "source": [
    "plt.figure(figsize=(10, 6))\n",
    "sns.scatterplot(x='Number of People in Room', y='CO2 Level (ppm)', data=classroom_data, label='Actual Data Points')\n",
    "\n",
    "# Generate predictions for the entire dataset to plot the regression line\n",
    "\n",
    "\n",
    "# Flatten X to a 1D array for plotting\n",
    "\n",
    "\n",
    "\n",
    "plt.title('Number of People in Room vs. CO2 Level with Regression Line')\n",
    "plt.xlabel('Number of People in Room')\n",
    "plt.ylabel('CO2 Level (ppm)')\n",
    "plt.grid(True)\n",
    "plt.legend()\n",
    "plt.show()"
   ]
  },
  {
   "cell_type": "markdown",
   "metadata": {},
   "source": [
    "## Evaluating the Model (Fit to Data)\n",
    "\n",
    "Even though we're not doing a train-test split for generalization, we can still evaluate how well the line fits the data it was trained on. This helps us understand how much of the variation in CO2 levels is explained by the number of people in the room.\n",
    "\n",
    "* **R-squared ($R^2$) Score**: Represents the proportion of the variance in CO2 levels that is predictable from the number of people in the room. An $R^2$ of 1 indicates a perfect fit, while 0 indicates no linear relationship."
   ]
  },
  {
   "cell_type": "code",
   "execution_count": null,
   "metadata": {},
   "outputs": [],
   "source": [
    "# Calculate the R^2 score\n",
    "\n",
    "\n",
    "print(f\"R-squared (R^2) Score: {r2:.2f}\")"
   ]
  },
  {
   "cell_type": "markdown",
   "metadata": {},
   "source": [
    "## Interpreting the Results\n",
    "\n",
    "The **R-squared ($R^2$) Score** tells us what percentage of the variation in CO2 levels is explained by the number of people in the room. For example, an R-squared of 0.75 would mean 75% of the CO2 variation can be accounted for by the number of people."
   ]
  },
  {
   "cell_type": "markdown",
   "metadata": {},
   "source": [
    "## Using the Model to Make Predictions\n",
    "\n",
    "Once the `model.fit(X, y)` method has been called, the model has learned the relationship (the slope and intercept of the line) between your independent variable (Number of People in Room) and your dependent variable (CO2 Level). You can then use the `model.predict()` method with new input values for the number of people in a room to get a predicted CO2 level."
   ]
  },
  {
   "cell_type": "code",
   "execution_count": null,
   "metadata": {},
   "outputs": [],
   "source": [
    "# Input data must be in a 2D array-like format\n",
    " \n",
    "\n",
    "# Use the model make a prediction\n",
    "\n",
    "\n",
    "print(f\"Predicted CO2 level for 15 people (using list of lists): {predicted_co2_list[0]:.2f} ppm\")"
   ]
  },
  {
   "attachments": {},
   "cell_type": "markdown",
   "metadata": {},
   "source": [
    "## Discussion and Further Exploration\n",
    "\n",
    "This simplified linear regression model shows the relationship between room occupancy and CO2 levels. However, it's crucial to remember:\n",
    "\n",
    "* **Correlation vs. Causation**: In this specific case, the biological process of human respiration directly links people to CO2 production, suggesting a causal relationship. However, students should always be mindful that correlation alone doesn't prove causation in other scientific contexts.\n",
    "* **Model Limitations**: A simple linear model might not capture all the complexities. Factors like room volume, ventilation rates, and the duration people have been in the room can also significantly affect CO2 levels. This simple model provides a baseline understanding.\n",
    "* **Next Steps**: For a deeper dive, students could:\n",
    "    * Consider adding other variables (if available from their original data collection, e.g., room temperature, whether windows/doors are open/closed, activity level) and perform **multiple linear regression** to see if a combination of factors provides an even better fit and explains more variation.\n",
    "    * Investigate the concept of **residuals** (the differences between actual CO2 levels and the levels predicted by the line) to identify data points that don't fit the trend well and discuss why."
   ]
  },
  {
   "cell_type": "code",
   "execution_count": null,
   "metadata": {},
   "outputs": [],
   "source": []
  }
 ],
 "metadata": {
  "kernelspec": {
   "display_name": "Python 3 (ipykernel)",
   "language": "python",
   "name": "python3"
  },
  "language_info": {
   "codemirror_mode": {
    "name": "ipython",
    "version": 3
   },
   "file_extension": ".py",
   "mimetype": "text/x-python",
   "name": "python",
   "nbconvert_exporter": "python",
   "pygments_lexer": "ipython3",
   "version": "3.9.12"
  }
 },
 "nbformat": 4,
 "nbformat_minor": 4
}
