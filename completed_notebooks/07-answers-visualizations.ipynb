{
 "cells": [
  {
   "cell_type": "markdown",
   "id": "intro",
   "metadata": {},
   "source": [
    "# Visualizing Data with Matplotlib\n",
    "\n",
    "Visualizing data is a powerful way to uncover interesting patterns.\n",
    "\n",
    "As we saw during the pandemic, understanding public health data is crucial for informed decision-making and scientific literacy. Through visualizations of covid data, we can gain insights into the dynamics of the pandemic."
   ]
  },
  {
   "cell_type": "markdown",
   "id": "import_data",
   "metadata": {},
   "source": [
    "## Getting Started: Importing Libraries and Loading Data\n",
    "\n",
    "First, we'll import `matplotlib.pyplot` for plotting and `pandas` for data manipulation. Most of the Matplotlib functions lies under the `pyplot` submodule, and are usually imported as `plt`. Then, we'll load our COVID-19 dataset."
   ]
  },
  {
   "cell_type": "code",
   "execution_count": 3,
   "id": "import_and_load",
   "metadata": {},
   "outputs": [
    {
     "data": {
      "text/html": [
       "<div>\n",
       "<style scoped>\n",
       "    .dataframe tbody tr th:only-of-type {\n",
       "        vertical-align: middle;\n",
       "    }\n",
       "\n",
       "    .dataframe tbody tr th {\n",
       "        vertical-align: top;\n",
       "    }\n",
       "\n",
       "    .dataframe thead th {\n",
       "        text-align: right;\n",
       "    }\n",
       "</style>\n",
       "<table border=\"1\" class=\"dataframe\">\n",
       "  <thead>\n",
       "    <tr style=\"text-align: right;\">\n",
       "      <th></th>\n",
       "      <th>date</th>\n",
       "      <th>state</th>\n",
       "      <th>population</th>\n",
       "      <th>cases</th>\n",
       "      <th>deaths</th>\n",
       "    </tr>\n",
       "  </thead>\n",
       "  <tbody>\n",
       "    <tr>\n",
       "      <th>0</th>\n",
       "      <td>1/22/20</td>\n",
       "      <td>Alabama</td>\n",
       "      <td>4903185</td>\n",
       "      <td>0</td>\n",
       "      <td>0</td>\n",
       "    </tr>\n",
       "    <tr>\n",
       "      <th>1</th>\n",
       "      <td>1/22/20</td>\n",
       "      <td>Alaska</td>\n",
       "      <td>731545</td>\n",
       "      <td>0</td>\n",
       "      <td>0</td>\n",
       "    </tr>\n",
       "    <tr>\n",
       "      <th>2</th>\n",
       "      <td>1/22/20</td>\n",
       "      <td>Arizona</td>\n",
       "      <td>7278717</td>\n",
       "      <td>0</td>\n",
       "      <td>0</td>\n",
       "    </tr>\n",
       "    <tr>\n",
       "      <th>3</th>\n",
       "      <td>1/22/20</td>\n",
       "      <td>Arkansas</td>\n",
       "      <td>3017804</td>\n",
       "      <td>0</td>\n",
       "      <td>0</td>\n",
       "    </tr>\n",
       "    <tr>\n",
       "      <th>4</th>\n",
       "      <td>1/22/20</td>\n",
       "      <td>California</td>\n",
       "      <td>39512223</td>\n",
       "      <td>0</td>\n",
       "      <td>0</td>\n",
       "    </tr>\n",
       "  </tbody>\n",
       "</table>\n",
       "</div>"
      ],
      "text/plain": [
       "      date       state  population  cases  deaths\n",
       "0  1/22/20     Alabama     4903185      0       0\n",
       "1  1/22/20      Alaska      731545      0       0\n",
       "2  1/22/20     Arizona     7278717      0       0\n",
       "3  1/22/20    Arkansas     3017804      0       0\n",
       "4  1/22/20  California    39512223      0       0"
      ]
     },
     "execution_count": 3,
     "metadata": {},
     "output_type": "execute_result"
    }
   ],
   "source": [
    "import matplotlib.pyplot as plt\n",
    "import pandas as pd\n",
    "\n",
    "covid = pd.read_csv(\"https://raw.githubusercontent.com/ArgonneEducation/ai_for_science_teacher_institute/refs/heads/main/data/covid_by_state_daily.csv\")\n",
    "covid.head()"
   ]
  },
  {
   "cell_type": "markdown",
   "id": "line_plots",
   "metadata": {},
   "source": [
    "# Line Plots: Tracking Trends Over Time\n",
    "\n",
    "Line plots are ideal for visualizing how variables change sequentially, often over time. This helps us observe trends, peaks, and valleys in the data. Here, we'll plot the daily new COVID-19 cases and the test positivity rate."
   ]
  },
  {
   "cell_type": "markdown",
   "id": "480d1615-19e2-4bf0-a356-ea767eed75d7",
   "metadata": {},
   "source": [
    "### How a Plot is Constructed: A Step-by-Step Guide\n",
    "\n",
    "When you create a plot using Matplotlib, you're essentially building an image layer by layer. Let's break down the fundamental components and the typical workflow:"
   ]
  },
  {
   "cell_type": "markdown",
   "id": "f06d47ef-c3f9-4e66-a75f-9d494a607bb8",
   "metadata": {},
   "source": [
    "**1. The Data**\n",
    "\n",
    "The data typically comes in the form of lists, arrays, or columns in a dataframe."
   ]
  },
  {
   "cell_type": "code",
   "execution_count": null,
   "id": "8376b203-2d6d-4000-84fe-9fed5bb64ce5",
   "metadata": {},
   "outputs": [],
   "source": []
  },
  {
   "cell_type": "markdown",
   "id": "0e3f6b48-f816-4bd7-a25b-6cf49dc4a51c",
   "metadata": {},
   "source": [
    "**2. The Plotting Function: Drawing Your Data**\n",
    "\n",
    "This is where you tell Matplotlib how to represent your data. Based on the type of relationship or distribution you want to show, you choose a specific function. Here we will create a line plot by using the `plot()` function:"
   ]
  },
  {
   "cell_type": "code",
   "execution_count": 6,
   "id": "8e2db8bd-2a90-4cfa-8552-9a9db6f00865",
   "metadata": {},
   "outputs": [
    {
     "data": {
      "image/png": "[encoded data removed]",
      "text/plain": [
       "<Figure size 640x480 with 1 Axes>"
      ]
     },
     "metadata": {},
     "output_type": "display_data"
    }
   ],
   "source": [
    "plt.plot(covid['date'], covid['cases'])\n",
    "plt.xlabel('Date')\n",
    "plt.ylabel('Cases')\n",
    "plt.title('COVID-19 Cases Over Time')\n",
    "plt.xticks(rotation=45)\n",
    "plt.show()"
   ]
  },
  {
   "cell_type": "markdown",
   "id": "ea39b3fa-582a-48f9-95e0-695fb37ef17a",
   "metadata": {},
   "source": [
    "**3. Customizations**"
   ]
  },
  {
   "cell_type": "markdown",
   "id": "a60a8c4e-e14f-4493-b2c6-fe17cef166e8",
   "metadata": {},
   "source": [
    "#### Legend"
   ]
  },
  {
   "cell_type": "markdown",
   "id": "00f9996e-fd44-4087-a375-fcdbec2dc4e7",
   "metadata": {},
   "source": [
    "If you have multiple data series on one plot, `plt.legend()` uses the `label=` arguments from your plotting functions to create a key."
   ]
  },
  {
   "cell_type": "code",
   "execution_count": null,
   "id": "6d196500-cfdf-4d90-89ad-209a4201a188",
   "metadata": {},
   "outputs": [],
   "source": []
  },
  {
   "cell_type": "markdown",
   "id": "fbc3f4c7-336a-4cfc-91aa-294b98b55154",
   "metadata": {},
   "source": [
    "#### Figure Size:\n",
    "\n",
    "Control the overall size of your plot window (the \"Figure\") using plt.figure(figsize=(width, height)) before any plotting commands. This is useful for making plots larger for presentations or smaller for embedding."
   ]
  },
  {
   "cell_type": "code",
   "execution_count": null,
   "id": "9769dee9-13f6-48b6-a8f4-2aba85b3e6f6",
   "metadata": {},
   "outputs": [],
   "source": []
  },
  {
   "cell_type": "markdown",
   "id": "335603db-d803-4ce2-8b82-3eaa134a7c49",
   "metadata": {},
   "source": [
    "#### Appearance\n",
    "\n",
    "Added as arguments to the `plot()` function after the `x`, `y`:\n",
    "- Colors: `color='red'`\n",
    "\n",
    "- Line Styles: `linestyle='--'` (dashed), `'-'` (solid)\n",
    "\n",
    "- Markers: `marker='o'` (circles), `'s'` (squares)\n",
    "\n",
    "Grid: `plt.grid(True)`\n"
   ]
  },
  {
   "cell_type": "code",
   "execution_count": null,
   "id": "121ef1b5-640b-4fb5-92ba-ddfe4b93a871",
   "metadata": {},
   "outputs": [],
   "source": []
  },
  {
   "cell_type": "markdown",
   "id": "596ce90b-9420-4176-98a5-1fa3f87d7b71",
   "metadata": {},
   "source": [
    "### Plotting Multiple Lines"
   ]
  },
  {
   "cell_type": "code",
   "execution_count": null,
   "id": "eda99f96-579a-4c41-b7a3-d85a4a8a7c6c",
   "metadata": {},
   "outputs": [],
   "source": []
  },
  {
   "cell_type": "markdown",
   "id": "scatter_plots",
   "metadata": {},
   "source": [
    "## Scatter Plots: Exploring Relationships Between Variables\n",
    "\n",
    "Scatter plots are used to visualize the relationship between two numerical variables. Each point represents an observation, and the pattern of points can suggest a correlation (positive, negative, or none). Here, let's look at the relationship between many demographic variables and covid positivity rate among different Chicago ZIP codes during the early days of the pandemic."
   ]
  },
  {
   "cell_type": "code",
   "execution_count": null,
   "id": "23d4d98c-4bb1-4f07-9e11-22a6a1a1ef9f",
   "metadata": {},
   "outputs": [],
   "source": []
  },
  {
   "cell_type": "markdown",
   "id": "histograms",
   "metadata": {},
   "source": [
    "## Histograms: Understanding Data Distribution\n",
    "\n",
    "Histograms are used to show the distribution of a single numerical variable. They divide the data into bins and count how many observations fall into each bin, helping us understand the frequency and spread of values. Let's examine the distribution of daily new COVID-19 cases."
   ]
  },
  {
   "cell_type": "code",
   "execution_count": null,
   "id": "4da076bd-99e1-47f5-b2ae-9dd8fb14db86",
   "metadata": {},
   "outputs": [],
   "source": []
  },
  {
   "cell_type": "markdown",
   "id": "8611d4e6-c23f-4ebd-a12a-d549537ea24e",
   "metadata": {},
   "source": [
    "___\n",
    "## 💪 **Exercise** 💪\n",
    "\n",
    "Look at the datasets in the 'data' folder. Create a **line plot**, **scatter plot** and **histogram** from these datasets. You so not have to use the same dataset for all three visualizations.\n",
    "___"
   ]
  },
  {
   "cell_type": "code",
   "execution_count": null,
   "id": "d579274f-5ef8-4075-8492-23ca50176876",
   "metadata": {},
   "outputs": [],
   "source": []
  }
 ],
 "metadata": {
  "kernelspec": {
   "display_name": "dev",
   "language": "python",
   "name": "python3"
  },
  "language_info": {
   "codemirror_mode": {
    "name": "ipython",
    "version": 3
   },
   "file_extension": ".py",
   "mimetype": "text/x-python",
   "name": "python",
   "nbconvert_exporter": "python",
   "pygments_lexer": "ipython3",
   "version": "3.12.7"
  }
 },
 "nbformat": 4,
 "nbformat_minor": 5
}
