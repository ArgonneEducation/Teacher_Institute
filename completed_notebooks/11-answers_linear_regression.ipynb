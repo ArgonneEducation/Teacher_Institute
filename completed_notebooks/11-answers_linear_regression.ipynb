{
 "cells": [
  {
   "cell_type": "markdown",
   "metadata": {},
   "source": [
    "# Linear Regression: Your AI \"Hello world!\"\n",
    "\n",
    "While it might seem simple, linear regression is a powerful tool for understanding relationships between variables and making predictions, which are core ideas in AI and ML. We'll explore how this model can be applied to real-world data."
   ]
  },
  {
   "cell_type": "markdown",
   "metadata": {},
   "source": [
    "## What is Linear Regression?\n",
    "\n",
    "At its heart, linear regression is about finding the best-fitting straight line through a set of data points. This line helps us understand how one variable (the outcome/dependent variable) changes in response to another variable (the explanatory/independent variable). This is incredibly useful for identifying trends, making predictions, and even inferring causal relationships (with careful interpretation!)."
   ]
  },
  {
   "cell_type": "markdown",
   "metadata": {},
   "source": [
    "## The Problem: Indoor CO2 Levels and Occupancy\n",
    "\n",
    "This notebook uses a dataset that was collected by students at J. Sterling Morton High School as part of a study on CO2 levels in classrooms. We will investigate if there's a linear relationship between the **number of people in a room** and the **CO2 level** in that room."
   ]
  },
  {
   "cell_type": "markdown",
   "metadata": {},
   "source": [
    "### Setting Up Our Environment\n",
    "\n",
    "First, we need to import the necessary Python libraries. We'll use `pandas` for data manipulation and `matplotlib.pyplot` for visualization. We will also be using a couple of new libraries: `seaborn` for plotting, and \"scikit-learn\" (`sklearn`) for our linear regression model."
   ]
  },
  {
   "cell_type": "code",
   "execution_count": 2,
   "metadata": {},
   "outputs": [
    {
     "name": "stderr",
     "output_type": "stream",
     "text": [
      "/Users/argonneed/opt/anaconda3/lib/python3.9/site-packages/scipy/__init__.py:146: UserWarning: A NumPy version >=1.16.5 and <1.23.0 is required for this version of SciPy (detected version 1.26.4\n",
      "  warnings.warn(f\"A NumPy version >={np_minversion} and <{np_maxversion}\"\n"
     ]
    }
   ],
   "source": [
    "import pandas as pd\n",
    "import matplotlib.pyplot as plt\n",
    "import seaborn as sns \n",
    "from sklearn.linear_model import LinearRegression\n",
    "from sklearn.metrics import mean_squared_error, r2_score"
   ]
  },
  {
   "cell_type": "markdown",
   "metadata": {},
   "source": [
    "## Loading and Exploring the Data\n",
    "\n",
    "We will load the `co2_levels_and_people.csv` file that was pre-processed from multiple individual room datasets. This file contains the `CO2 Level (ppm)` and `Number of People in Room` for many observations. "
   ]
  },
  {
   "cell_type": "code",
   "execution_count": null,
   "metadata": {},
   "outputs": [
    {
     "data": {
      "text/html": [
       "<div>\n",
       "<style scoped>\n",
       "    .dataframe tbody tr th:only-of-type {\n",
       "        vertical-align: middle;\n",
       "    }\n",
       "\n",
       "    .dataframe tbody tr th {\n",
       "        vertical-align: top;\n",
       "    }\n",
       "\n",
       "    .dataframe thead th {\n",
       "        text-align: right;\n",
       "    }\n",
       "</style>\n",
       "<table border=\"1\" class=\"dataframe\">\n",
       "  <thead>\n",
       "    <tr style=\"text-align: right;\">\n",
       "      <th></th>\n",
       "      <th>Number of People in Room</th>\n",
       "      <th>CO2 Level (ppm)</th>\n",
       "    </tr>\n",
       "  </thead>\n",
       "  <tbody>\n",
       "    <tr>\n",
       "      <th>0</th>\n",
       "      <td>18</td>\n",
       "      <td>831</td>\n",
       "    </tr>\n",
       "    <tr>\n",
       "      <th>1</th>\n",
       "      <td>18</td>\n",
       "      <td>829</td>\n",
       "    </tr>\n",
       "    <tr>\n",
       "      <th>2</th>\n",
       "      <td>22</td>\n",
       "      <td>887</td>\n",
       "    </tr>\n",
       "    <tr>\n",
       "      <th>3</th>\n",
       "      <td>0</td>\n",
       "      <td>494</td>\n",
       "    </tr>\n",
       "    <tr>\n",
       "      <th>4</th>\n",
       "      <td>1</td>\n",
       "      <td>465</td>\n",
       "    </tr>\n",
       "  </tbody>\n",
       "</table>\n",
       "</div>"
      ],
      "text/plain": [
       "   Number of People in Room  CO2 Level (ppm)\n",
       "0                        18              831\n",
       "1                        18              829\n",
       "2                        22              887\n",
       "3                         0              494\n",
       "4                         1              465"
      ]
     },
     "execution_count": 5,
     "metadata": {},
     "output_type": "execute_result"
    }
   ],
   "source": [
    "# Load the dataset\n",
    "classroom_data = pd.read_csv(\"https://raw.githubusercontent.com/ArgonneEducation/ai_for_science_teacher_institute/refs/heads/main/data/co2_levels_and_people.csv\")\n",
    "classroom_data.head()"
   ]
  },
  {
   "cell_type": "code",
   "execution_count": 6,
   "metadata": {},
   "outputs": [
    {
     "name": "stdout",
     "output_type": "stream",
     "text": [
      "<class 'pandas.core.frame.DataFrame'>\n",
      "RangeIndex: 117 entries, 0 to 116\n",
      "Data columns (total 2 columns):\n",
      " #   Column                    Non-Null Count  Dtype\n",
      "---  ------                    --------------  -----\n",
      " 0   Number of People in Room  117 non-null    int64\n",
      " 1   CO2 Level (ppm)           117 non-null    int64\n",
      "dtypes: int64(2)\n",
      "memory usage: 2.0 KB\n"
     ]
    }
   ],
   "source": [
    "# Get a summary of the dataframe's information\n",
    "classroom_data.info()"
   ]
  },
  {
   "cell_type": "code",
   "execution_count": 7,
   "metadata": {},
   "outputs": [
    {
     "data": {
      "text/html": [
       "<div>\n",
       "<style scoped>\n",
       "    .dataframe tbody tr th:only-of-type {\n",
       "        vertical-align: middle;\n",
       "    }\n",
       "\n",
       "    .dataframe tbody tr th {\n",
       "        vertical-align: top;\n",
       "    }\n",
       "\n",
       "    .dataframe thead th {\n",
       "        text-align: right;\n",
       "    }\n",
       "</style>\n",
       "<table border=\"1\" class=\"dataframe\">\n",
       "  <thead>\n",
       "    <tr style=\"text-align: right;\">\n",
       "      <th></th>\n",
       "      <th>Number of People in Room</th>\n",
       "      <th>CO2 Level (ppm)</th>\n",
       "    </tr>\n",
       "  </thead>\n",
       "  <tbody>\n",
       "    <tr>\n",
       "      <th>count</th>\n",
       "      <td>117.000000</td>\n",
       "      <td>117.000000</td>\n",
       "    </tr>\n",
       "    <tr>\n",
       "      <th>mean</th>\n",
       "      <td>11.820513</td>\n",
       "      <td>638.393162</td>\n",
       "    </tr>\n",
       "    <tr>\n",
       "      <th>std</th>\n",
       "      <td>9.450064</td>\n",
       "      <td>167.760192</td>\n",
       "    </tr>\n",
       "    <tr>\n",
       "      <th>min</th>\n",
       "      <td>0.000000</td>\n",
       "      <td>413.000000</td>\n",
       "    </tr>\n",
       "    <tr>\n",
       "      <th>25%</th>\n",
       "      <td>1.000000</td>\n",
       "      <td>494.000000</td>\n",
       "    </tr>\n",
       "    <tr>\n",
       "      <th>50%</th>\n",
       "      <td>15.000000</td>\n",
       "      <td>600.000000</td>\n",
       "    </tr>\n",
       "    <tr>\n",
       "      <th>75%</th>\n",
       "      <td>19.000000</td>\n",
       "      <td>756.000000</td>\n",
       "    </tr>\n",
       "    <tr>\n",
       "      <th>max</th>\n",
       "      <td>28.000000</td>\n",
       "      <td>1155.000000</td>\n",
       "    </tr>\n",
       "  </tbody>\n",
       "</table>\n",
       "</div>"
      ],
      "text/plain": [
       "       Number of People in Room  CO2 Level (ppm)\n",
       "count                117.000000       117.000000\n",
       "mean                  11.820513       638.393162\n",
       "std                    9.450064       167.760192\n",
       "min                    0.000000       413.000000\n",
       "25%                    1.000000       494.000000\n",
       "50%                   15.000000       600.000000\n",
       "75%                   19.000000       756.000000\n",
       "max                   28.000000      1155.000000"
      ]
     },
     "execution_count": 7,
     "metadata": {},
     "output_type": "execute_result"
    }
   ],
   "source": [
    "# Get descriptive statistics for numerical columns\n",
    "classroom_data.describe()"
   ]
  },
  {
   "cell_type": "markdown",
   "metadata": {},
   "source": [
    "## Why use Seaborn for Plotting?\n",
    "\n",
    "You've already gained experience with `matplotlib.pyplot` for creating plots, which is a powerful and foundational Python plotting library. Now, we're introducing `seaborn`, which is another excellent library for data visualization. You might wonder, why use two different libraries for plotting?\n",
    "\n",
    "Here's why `seaborn` is particularly useful, especially for exploring relationships in data and creating clear scientific visualizations.\n",
    "\n",
    "1.  **Less Code**: Seaborn provides a higher-level interface than Matplotlib. This means you can often create complex and statistically-rich plots with fewer lines of code. \n",
    "\n",
    "2.  **Integrated with Pandas DataFrames**: Seaborn is designed to work seamlessly with pandas DataFrames.\n",
    "\n",
    "3.  **Complementary to Matplotlib**: Seaborn is built on top of Matplotlib. This means your knowledge of Matplotlib is still very valuable! You can use Seaborn for the high-level plotting and then use Matplotlib functions (`plt.title()`, `plt.xlabel()`, `plt.legend()`, `plt.show()`, etc.) to further customize and refine your plots. They work together hand-in-hand.\n",
    "\n",
    "4.  **Aesthetics and Professional Appearance**: Seaborn comes with built-in themes and color palettes that produce aesthetically pleasing and professional-looking plots by default."
   ]
  },
  {
   "cell_type": "markdown",
   "metadata": {},
   "source": [
    "## Making a Scatter Plot with Seaborn\n",
    "\n",
    "Seaborn uses the `scatterplot()` function. Since Seaborn works with Pandas, we can reference the `x` and `y` data by simply calling the appropriate column names and use the `data` argument to reference the dataframe."
   ]
  },
  {
   "cell_type": "code",
   "execution_count": 20,
   "metadata": {},
   "outputs": [
    {
     "data": {
      "image/png": "[encoded data removed]",
      "text/plain": [
       "<Figure size 720x432 with 1 Axes>"
      ]
     },
     "metadata": {
      "needs_background": "light"
     },
     "output_type": "display_data"
    }
   ],
   "source": [
    "plt.figure(figsize=(10, 6))\n",
    "sns.scatterplot(x='Number of People in Room', y='CO2 Level (ppm)', data=classroom_data, label='Actual Data Points')\n",
    "\n",
    "# Use Matplotlib to finish out the plot\n",
    "plt.title('Number of People in Room vs. CO2 Level')\n",
    "plt.xlabel('Number of People in Room')\n",
    "plt.ylabel('CO2 Level (ppm)')\n",
    "plt.grid(True)\n",
    "plt.legend()\n",
    "plt.show()"
   ]
  },
  {
   "cell_type": "markdown",
   "metadata": {},
   "source": [
    "## Preparing Data for Linear Regression\n",
    "\n",
    "For linear regression, we need to define our independent variable (X) and dependent variable (y). In our case, the 'Number of People in Room' will be our independent variable (X), and 'CO2 Level (ppm)' will be our dependent variable (y).\n",
    "\n",
    "For linear regression, `X` should be a 2D array (or a DataFrame with a single column), and `y` should be a 1D array (or a Series).\n",
    "\n",
    "### Understanding Data Dimensions for Linear Regression (X and y)\n",
    "\n",
    "When preparing your data for linear regression, especially when using libraries like scikit-learn in Python, it's crucial to correctly shape your independent variable (often denoted as `X`) and your dependent variable (often denoted as `y`).\n",
    "\n",
    "* **`X` (Explanatory/Independent Variable(s)):**\n",
    "    * `X` represents the features or explanatory variables that you are using to make predictions.\n",
    "    * **It should always be a 2D array or a pandas DataFrame.**\n",
    "    * Even if you only have **one independent variable** (as in simple linear regression, like 'Number of People in Room' in our example), scikit-learn expects `X` to be 2-dimensional. This is because the model is designed to handle multiple features (columns) for more complex scenarios (multiple linear regression). When you have a single feature, you often see it created as `df[['your_column_name']]` to ensure it remains a DataFrame (2D).\n",
    "    * Each row in `X` corresponds to a single data point or observation, and each column corresponds to a different feature.\n",
    "\n",
    "* **`y` (Outcome/Dependent Variable):**\n",
    "    * `y` represents the **target variable** or the outcome that you are trying to predict.\n",
    "    * **It should always be a 1D array or a pandas Series.**\n",
    "    * This is because for each observation (row) in your dataset, there is typically only one target value you are trying to predict.\n",
    "    * You typically select `y` as a single column from your DataFrame, like `df['your_target_column_name']`, which results in a pandas Series (1D).\n",
    "\n",
    "**Why this distinction?**\n",
    "\n",
    "This convention helps the machine learning libraries clearly distinguish between the input features (which can be many) and the single output target for each observation. It provides a consistent interface for models, whether you're performing simple linear regression with one predictor or multiple linear regression with many predictors.\n"
   ]
  },
  {
   "cell_type": "code",
   "execution_count": 8,
   "metadata": {},
   "outputs": [],
   "source": [
    "# Define independent (X) and dependent (y) variables\n",
    "X = classroom_data[['Number of People in Room']]  # Explanatory/Independent variable (must be 2D)\n",
    "y = classroom_data['CO2 Level (ppm)']             # Outcome/Dependent variable (1D)"
   ]
  },
  {
   "cell_type": "markdown",
   "metadata": {},
   "source": [
    "## Building and Training the Linear Regression Model\n",
    "\n",
    "Now we can create an instance of the `LinearRegression` model from `scikit-learn` and train it using our entire dataset. Training involves the model learning the coefficients (slope) and intercept of the best-fit line."
   ]
  },
  {
   "cell_type": "code",
   "execution_count": 10,
   "metadata": {},
   "outputs": [
    {
     "name": "stdout",
     "output_type": "stream",
     "text": [
      "Model training complete!\n"
     ]
    }
   ],
   "source": [
    "# Create a Linear Regression model object\n",
    "model = LinearRegression()\n",
    "\n",
    "# Train the model using the entire dataset\n",
    "model.fit(X, y)\n",
    "\n",
    "print(\"Model training complete!\")"
   ]
  },
  {
   "cell_type": "markdown",
   "metadata": {},
   "source": [
    "## Getting the Equation of the Regression Line\n",
    "\n",
    "The equation of a straight line is typically written as $y = mx + b$, where:\n",
    "* $y$ is the dependent variable (CO2 Level in ppm).\n",
    "* $x$ is the independent variable (Number of People in Room).\n",
    "* $m$ is the slope of the line (the coefficient).\n",
    "* $b$ is the y-intercept.\n",
    "\n",
    "The equation of our regression line provides a direct way to understand the relationship:\n",
    "\n",
    "**CO2 Level (ppm) = [Slope] * Number of People + [Intercept]**\n",
    "\n",
    "* **Slope**: This value indicates how many parts per million (ppm) the CO2 level is estimated to increase for each additional person in the room. A positive slope supports the hypothesis that more people lead to higher CO2 levels.\n",
    "  \n",
    "* **Intercept**: This is the predicted CO2 level when there are zero people in the room. In a real-world scenario, this should ideally be close to the outdoor atmospheric CO2 concentration (currently around 420-450 ppm), assuming good ventilation when the room is empty.\n",
    "\n",
    "Our linear regression model calculates these values for us. We can directly access them from the trained model."
   ]
  },
  {
   "cell_type": "code",
   "execution_count": 11,
   "metadata": {},
   "outputs": [
    {
     "name": "stdout",
     "output_type": "stream",
     "text": [
      "Model Coefficient (Slope, m): 13.02\n",
      "Model Intercept (b): 484.46\n",
      "\n",
      "The equation of the regression line is: CO2 Level (ppm) = 13.02 * Number of People + 484.46\n"
     ]
    }
   ],
   "source": [
    "# Get the model's coefficients (slope) and intercept\n",
    "slope = model.coef_[0]\n",
    "intercept = model.intercept_\n",
    "\n",
    "print(f\"Model Coefficient (Slope, m): {slope:.2f}\")\n",
    "print(f\"Model Intercept (b): {intercept:.2f}\")\n",
    "\n",
    "print(f\"\\nThe equation of the regression line is: CO2 Level (ppm) = {slope:.2f} * Number of People + {intercept:.2f}\")"
   ]
  },
  {
   "cell_type": "markdown",
   "metadata": {},
   "source": [
    "## Visualizing the Regression Line\n",
    "\n",
    "Finally, let's visualize our trained linear regression line overlaid on the scatter plot of the original data using `seaborn`. This gives us a clear visual representation of the relationship the model has found."
   ]
  },
  {
   "cell_type": "code",
   "execution_count": 17,
   "metadata": {},
   "outputs": [
    {
     "data": {
      "image/png": "[encoded data removed]",
      "text/plain": [
       "<Figure size 720x432 with 1 Axes>"
      ]
     },
     "metadata": {
      "needs_background": "light"
     },
     "output_type": "display_data"
    }
   ],
   "source": [
    "plt.figure(figsize=(10, 6))\n",
    "sns.scatterplot(x='Number of People in Room', y='CO2 Level (ppm)', data=classroom_data, label='Actual Data Points')\n",
    "\n",
    "# Generate predictions for the entire dataset to plot the regression line\n",
    "y_pred = model.predict(X)\n",
    "\n",
    "# Flatten X to a 1D array for plotting\n",
    "plt.plot(X.values.flatten(), y_pred, color='red', linewidth=2, label='Regression Line')\n",
    "\n",
    "# Add title, axes, legend and grid lines\n",
    "plt.title('Number of People in Room vs. CO2 Level with Regression Line')\n",
    "plt.xlabel('Number of People in Room')\n",
    "plt.ylabel('CO2 Level (ppm)')\n",
    "plt.grid(True)\n",
    "plt.legend()\n",
    "plt.show()"
   ]
  },
  {
   "cell_type": "markdown",
   "metadata": {},
   "source": [
    "## Evaluating the Model (Fit to Data)\n",
    "\n",
    "Even though we're not doing a train-test split for generalization, we can still evaluate how well the line fits the data it was trained on. This helps us understand how much of the variation in CO2 levels is explained by the number of people in the room.\n",
    "\n",
    "* **Mean Squared Error (MSE)**: Measures the average squared difference between the actual and predicted values. Lower MSE means a closer fit to the data.\n",
    "* **R-squared ($R^2$) Score**: Represents the proportion of the variance in CO2 levels that is predictable from the number of people in the room. An $R^2$ of 1 indicates a perfect fit, while 0 indicates no linear relationship."
   ]
  },
  {
   "cell_type": "code",
   "execution_count": 19,
   "metadata": {},
   "outputs": [
    {
     "name": "stdout",
     "output_type": "stream",
     "text": [
      "R-squared (R^2) Score on full data: 0.54\n"
     ]
    }
   ],
   "source": [
    "# Evaluate the model\n",
    "r2 = r2_score(y, y_pred)\n",
    "\n",
    "print(f\"R-squared (R^2) Score on full data: {r2:.2f}\")"
   ]
  },
  {
   "cell_type": "markdown",
   "metadata": {
    "jp-MarkdownHeadingCollapsed": true
   },
   "source": [
    "## Interpreting the Results\n",
    "\n",
    "The **R-squared ($R^2$) Score** tells us what percentage of the variation in CO2 levels is explained by the number of people in the room. For example, an R-squared of 0.75 would mean 75% of the CO2 variation can be accounted for by the number of people."
   ]
  },
  {
   "attachments": {},
   "cell_type": "markdown",
   "metadata": {},
   "source": [
    "## Discussion and Further Exploration\n",
    "\n",
    "This simplified linear regression model clearly shows the relationship between room occupancy and CO2 levels. However, it's crucial to remember:\n",
    "\n",
    "* **Correlation vs. Causation**: In this specific case, the biological process of human respiration directly links people to CO2 production, suggesting a causal relationship. However, students should always be mindful that correlation alone doesn't prove causation in other scientific contexts.\n",
    "* **Model Limitations**: A simple linear model might not capture all the complexities. Factors like room volume, ventilation rates, and the duration people have been in the room can also significantly affect CO2 levels. This simple model provides a baseline understanding.\n",
    "* **Next Steps**: For a deeper dive, students could:\n",
    "    * Consider adding other variables (if available from their original data collection, e.g., room temperature, whether windows/doors are open/closed, activity level) and perform **multiple linear regression** to see if a combination of factors provides an even better fit and explains more variation.\n",
    "    * Investigate the concept of **residuals** (the differences between actual CO2 levels and the levels predicted by the line) to identify data points that don't fit the trend well and discuss why."
   ]
  },
  {
   "cell_type": "code",
   "execution_count": null,
   "metadata": {},
   "outputs": [],
   "source": []
  }
 ],
 "metadata": {
  "kernelspec": {
   "display_name": "Python 3 (ipykernel)",
   "language": "python",
   "name": "python3"
  },
  "language_info": {
   "codemirror_mode": {
    "name": "ipython",
    "version": 3
   },
   "file_extension": ".py",
   "mimetype": "text/x-python",
   "name": "python",
   "nbconvert_exporter": "python",
   "pygments_lexer": "ipython3",
   "version": "3.9.12"
  }
 },
 "nbformat": 4,
 "nbformat_minor": 4
}
