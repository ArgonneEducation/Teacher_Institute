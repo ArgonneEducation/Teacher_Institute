{
 "cells": [
  {
   "cell_type": "markdown",
   "metadata": {},
   "source": [
    "# Does Homework Really Impact Achievement?\n",
    "\n",
    "What is the relationship between the amount of time students spend on homework and their academic achievement? We'll use a real-world dataset to explore this question and visualize our findings.\n",
    "\n",
    "The data for this investigation comes from the [Early Childhood Longitudinal Study, (ECLS)](https://nces.ed.gov/ecls/), a large-scale study conducted by the U.S. National Center for Education Statistics. This study tracks students from kindergarten through elementary school, collecting rich information about their development, learning experiences, and family backgrounds. Our subset of this data includes details on student demographics, homework habits, and standardized achievement scores in subjects like math and reading."
   ]
  },
  {
   "cell_type": "markdown",
   "metadata": {},
   "source": [
    "## Data Loading and Initial Exploration\n",
    "\n",
    "1. Import the necessary libraries:\n",
    "- Pandas\n",
    "- Matplotlib\n",
    "\n",
    "2. The data is contained in the GitHub repository at \"https://raw.githubusercontent.com/ArgonneEducation/ai_for_science_teacher_institute/refs/heads/main/data/ecls_homework_dataset.csv\" . Read it in as a dataframe named `ecls`.\n",
    "\n",
    "3.  Verify that the data is loaded by printing the first few lines of the dataframe."
   ]
  },
  {
   "cell_type": "code",
   "execution_count": 2,
   "metadata": {},
   "outputs": [
    {
     "data": {
      "text/html": [
       "<div>\n",
       "<style scoped>\n",
       "    .dataframe tbody tr th:only-of-type {\n",
       "        vertical-align: middle;\n",
       "    }\n",
       "\n",
       "    .dataframe tbody tr th {\n",
       "        vertical-align: top;\n",
       "    }\n",
       "\n",
       "    .dataframe thead th {\n",
       "        text-align: right;\n",
       "    }\n",
       "</style>\n",
       "<table border=\"1\" class=\"dataframe\">\n",
       "  <thead>\n",
       "    <tr style=\"text-align: right;\">\n",
       "      <th></th>\n",
       "      <th>student_id</th>\n",
       "      <th>grade</th>\n",
       "      <th>ses_level</th>\n",
       "      <th>homework_category</th>\n",
       "      <th>homework_minutes</th>\n",
       "      <th>math_score</th>\n",
       "      <th>reading_score</th>\n",
       "      <th>grade_label</th>\n",
       "      <th>homework_label</th>\n",
       "    </tr>\n",
       "  </thead>\n",
       "  <tbody>\n",
       "    <tr>\n",
       "      <th>0</th>\n",
       "      <td>1</td>\n",
       "      <td>2</td>\n",
       "      <td>3</td>\n",
       "      <td>1</td>\n",
       "      <td>0</td>\n",
       "      <td>70.1</td>\n",
       "      <td>62.1</td>\n",
       "      <td>2nd Grade</td>\n",
       "      <td>No homework</td>\n",
       "    </tr>\n",
       "    <tr>\n",
       "      <th>1</th>\n",
       "      <td>2</td>\n",
       "      <td>5</td>\n",
       "      <td>3</td>\n",
       "      <td>4</td>\n",
       "      <td>90</td>\n",
       "      <td>80.5</td>\n",
       "      <td>79.2</td>\n",
       "      <td>5th Grade</td>\n",
       "      <td>1-2 hours</td>\n",
       "    </tr>\n",
       "    <tr>\n",
       "      <th>2</th>\n",
       "      <td>3</td>\n",
       "      <td>4</td>\n",
       "      <td>2</td>\n",
       "      <td>2</td>\n",
       "      <td>15</td>\n",
       "      <td>72.9</td>\n",
       "      <td>58.5</td>\n",
       "      <td>4th Grade</td>\n",
       "      <td>Less than 30 min</td>\n",
       "    </tr>\n",
       "    <tr>\n",
       "      <th>3</th>\n",
       "      <td>4</td>\n",
       "      <td>3</td>\n",
       "      <td>2</td>\n",
       "      <td>2</td>\n",
       "      <td>15</td>\n",
       "      <td>52.9</td>\n",
       "      <td>55.0</td>\n",
       "      <td>3rd Grade</td>\n",
       "      <td>Less than 30 min</td>\n",
       "    </tr>\n",
       "    <tr>\n",
       "      <th>4</th>\n",
       "      <td>5</td>\n",
       "      <td>0</td>\n",
       "      <td>2</td>\n",
       "      <td>2</td>\n",
       "      <td>15</td>\n",
       "      <td>51.4</td>\n",
       "      <td>65.5</td>\n",
       "      <td>Kindergarten</td>\n",
       "      <td>Less than 30 min</td>\n",
       "    </tr>\n",
       "  </tbody>\n",
       "</table>\n",
       "</div>"
      ],
      "text/plain": [
       "   student_id  grade  ses_level  homework_category  homework_minutes  \\\n",
       "0           1      2          3                  1                 0   \n",
       "1           2      5          3                  4                90   \n",
       "2           3      4          2                  2                15   \n",
       "3           4      3          2                  2                15   \n",
       "4           5      0          2                  2                15   \n",
       "\n",
       "   math_score  reading_score   grade_label    homework_label  \n",
       "0        70.1           62.1     2nd Grade       No homework  \n",
       "1        80.5           79.2     5th Grade         1-2 hours  \n",
       "2        72.9           58.5     4th Grade  Less than 30 min  \n",
       "3        52.9           55.0     3rd Grade  Less than 30 min  \n",
       "4        51.4           65.5  Kindergarten  Less than 30 min  "
      ]
     },
     "execution_count": 2,
     "metadata": {},
     "output_type": "execute_result"
    }
   ],
   "source": [
    "import pandas as pd\n",
    "import matplotlib.pyplot as plt\n",
    "\n",
    "ecls = pd.read_csv(\"https://raw.githubusercontent.com/ArgonneEducation/ai_for_science_teacher_institute/refs/heads/main/data/ecls_homework_dataset.csv\")\n",
    "\n",
    "ecls.head()"
   ]
  },
  {
   "cell_type": "markdown",
   "metadata": {},
   "source": [
    "### Dataset Key\n",
    "\n",
    "- `student_id`: A unique identifier for each student in the dataset.\n",
    "\n",
    "- `grade`: The student's grade level, numerically coded (e.g., 0 for Kindergarten, 1 for 1st Grade, 2 for 2nd Grade).\n",
    "\n",
    "- `ses_level`: Socioeconomic status level of the student's family (specific categories for this variable are not detailed in this dataset snippet, but it generally indicates economic background).\n",
    "\n",
    "- `homework_category`: A categorical representation of homework time assigned or completed. The original values were mapped as follows (though the homework_minutes column already contains the converted numeric values):\n",
    "\n",
    "  - `1`: No homework assigned\n",
    "  - `2`: Less than 30 minutes\n",
    "  - `3`: 30-60 minutes\n",
    "  - `4`: 1-2 hours\n",
    "  - `5`: More than 2 hours\n",
    "\n",
    "`homework_minutes`: The numeric conversion of homework time in minutes per day, derived from homework_category.\n",
    "\n",
    "`math_score`: The student's achievement score in Math.\n",
    "\n",
    "`reading_score`: The student's achievement score in Reading.\n",
    "\n",
    "`grade_label`: A categorical label for the student's grade (e.g., 'Kindergarten', '1st Grade', '2nd Grade').\n",
    "\n",
    "`homework_label`: A categorical label for the homework time (e.g., 'No homework', 'Less than 30 min')."
   ]
  },
  {
   "cell_type": "markdown",
   "metadata": {},
   "source": [
    "Quickly explore the data using some of the dataframe methods. Some questions you could answer are:\n",
    "- How big is the dataset?\n",
    "- What are the summary statistics?"
   ]
  },
  {
   "cell_type": "code",
   "execution_count": null,
   "metadata": {},
   "outputs": [],
   "source": [
    "ecls.shape"
   ]
  },
  {
   "cell_type": "code",
   "execution_count": null,
   "metadata": {},
   "outputs": [],
   "source": [
    "ecls.describe()"
   ]
  },
  {
   "cell_type": "markdown",
   "metadata": {},
   "source": [
    "Let's start focusing on one grade level at a time:\n",
    "\n",
    "1. Create a new dataframe that contains data only for students in Kindergarten (Grade 0) called `kinder`. *Hint: remember to set a condition first.*\n",
    "\n",
    "2. After filtering, use the `.describe()` method to get a quick statistical summary of this specific grade's data."
   ]
  },
  {
   "cell_type": "code",
   "execution_count": null,
   "metadata": {},
   "outputs": [],
   "source": [
    "condition_k = ecls['grade'] == 0\n",
    "kinder = ecls[condition_k]\n",
    "kinder.describe()"
   ]
  },
  {
   "cell_type": "markdown",
   "metadata": {},
   "source": [
    "Now that you have isolated the data for Kindergarten students, let's explore their average math scores based on the different homework categories. This will give you insights into how much homework time is associated with math achievement within this specific grade.\n",
    "\n",
    "**Use the `.groupby()` method to group the `kinder` dataframe by homework_category, and then calculate the .mean() `math_score` and `reading_score` for each group.**"
   ]
  },
  {
   "cell_type": "code",
   "execution_count": null,
   "metadata": {},
   "outputs": [],
   "source": [
    "kinder.groupby('homework_category')['math_score'].mean()"
   ]
  },
  {
   "cell_type": "code",
   "execution_count": null,
   "metadata": {},
   "outputs": [],
   "source": [
    "kinder.groupby('homework_category')['reading_score'].mean()"
   ]
  },
  {
   "cell_type": "markdown",
   "metadata": {},
   "source": [
    "**Repeat this analysis of math and reading scores for some of the other grades.**"
   ]
  },
  {
   "cell_type": "code",
   "execution_count": null,
   "metadata": {},
   "outputs": [],
   "source": [
    "condition_1 = ecls['grade'] == 1\n",
    "first = ecls[condition_1]\n",
    "first.groupby('homework_category')['math_score'].mean()"
   ]
  },
  {
   "cell_type": "code",
   "execution_count": null,
   "metadata": {},
   "outputs": [],
   "source": [
    "condition_1 = ecls['grade'] == 1\n",
    "first = ecls[condition_1]\n",
    "first.groupby('homework_category')['reading_score'].mean()"
   ]
  },
  {
   "cell_type": "markdown",
   "metadata": {},
   "source": [
    "After seeing the data, do you think homework impacts student achievement? What questions do you still have that the data could potentially answer?"
   ]
  },
  {
   "cell_type": "markdown",
   "metadata": {},
   "source": [
    "## Supplementary: Visualization of the Results\n",
    "\n",
    "This code creates a clear bar plot showing the average math achievement for each homework category within the grade you selected. This simplified visualization, focusing on one grade at a time, makes it easier to compare the patterns and average scores directly across different grade levels when you run the analysis for each one.\n",
    "\n",
    "**Just run the next cell.**"
   ]
  },
  {
   "cell_type": "code",
   "execution_count": null,
   "metadata": {},
   "outputs": [],
   "source": [
    "import seaborn as sns\n",
    "\n",
    "mean_math_scores_all_grades = ecls.groupby(['grade_label', 'homework_label']).agg(\n",
    "    homework_minutes=('homework_minutes', 'first'), # Keep one homework_minutes for sorting\n",
    "    math_score=('math_score', 'mean')\n",
    ").sort_values(by=['grade_label', 'homework_minutes']).reset_index()\n",
    "\n",
    "\n",
    "# Step 4: Visualize Mean Math Scores by Homework Category for All Grades in a Single Image\n",
    "# Use seaborn.catplot to create a grid of bar plots, one for each grade.\n",
    "# 'col=\"grade_label\"' creates separate columns (facets) for each unique grade.\n",
    "g = sns.catplot(\n",
    "    data=mean_math_scores_all_grades,\n",
    "    x='homework_label',\n",
    "    y='math_score',\n",
    "    col='grade_label',\n",
    "    kind='bar',\n",
    "    col_wrap=3, # Adjust to wrap plots into rows if many grades\n",
    "    height=4, aspect=1.2, # Adjust size of each facet\n",
    "    palette='viridis',\n",
    "    sharey=True # Share the Y-axis across all plots for easier comparison\n",
    ")\n",
    "\n",
    "# Set common labels and titles\n",
    "g.set_axis_labels('Homework Time Category', 'Average Math Achievement Score')\n",
    "g.set_titles('Grade: {col_name}')\n",
    "g.fig.suptitle('Average Math Achievement Scores by Homework Category Across Grades', y=1.02, fontsize=16) # Title for the entire figure\n",
    "\n",
    "# Rotate x-axis labels for readability in each subplot\n",
    "for ax in g.axes.flat:\n",
    "    for label in ax.get_xticklabels():\n",
    "        label.set_rotation(45)\n",
    "        label.set_horizontalalignment('right')\n",
    "\n",
    "plt.tight_layout(rect=[0, 0.03, 1, 0.98]) # Adjust layout to prevent suptitle overlap and labels clipping\n",
    "plt.show()"
   ]
  },
  {
   "cell_type": "markdown",
   "metadata": {},
   "source": [
    "## Supplementary Material: A Statistical Test\n",
    "\n",
    "This code snippet below calculates the Pearson correlation coefficient (`r`) between `homework_minutes` and `math_score` in your `ecls` dataframe. The correlation coefficient (`r`) quantifies the linear relationship between these two variables. A positive `r` indicates that as one variable increases, the other tends to increase, while a negative `r` suggests that as one increases, the other tends to decrease. A value close to zero means there's a weak or no linear relationship.\n"
   ]
  },
  {
   "cell_type": "code",
   "execution_count": null,
   "metadata": {},
   "outputs": [],
   "source": [
    "correlation = ecls['homework_minutes'].corr(ecls['math_score'])\n",
    "print(f\"Homework vs Math Achievement: r = {correlation:.3f}\")"
   ]
  }
 ],
 "metadata": {
  "kernelspec": {
   "display_name": "dev",
   "language": "python",
   "name": "python3"
  },
  "language_info": {
   "codemirror_mode": {
    "name": "ipython",
    "version": 3
   },
   "file_extension": ".py",
   "mimetype": "text/x-python",
   "name": "python",
   "nbconvert_exporter": "python",
   "pygments_lexer": "ipython3",
   "version": "3.12.7"
  }
 },
 "nbformat": 4,
 "nbformat_minor": 4
}
